{
 "cells": [
  {
   "cell_type": "markdown",
   "id": "fddf1697-6857-41c2-a55a-6e057fb3c0ec",
   "metadata": {},
   "source": [
    "# Data Science Tools and Ecosystem"
   ]
  },
  {
   "cell_type": "markdown",
   "id": "31f10cde-2396-43ab-aba0-ddf0199b438a",
   "metadata": {},
   "source": [
    "# Data Science Tools and Ecosystem"
   ]
  },
  {
   "cell_type": "markdown",
   "id": "1dd034a8-16e5-476f-b8af-ee35de701c59",
   "metadata": {},
   "source": [
    "In this notebook, Data Science Tools and Ecosystem are summarized"
   ]
  },
  {
   "cell_type": "markdown",
   "id": "379bbe22-c108-458c-920b-e6579a68c190",
   "metadata": {},
   "source": [
    "In this notebook, Data Science Tools and Ecosystem are summarized"
   ]
  },
  {
   "cell_type": "markdown",
   "id": "930e270a-7b2b-4793-b4d4-90e5c14beff1",
   "metadata": {},
   "source": [
    "Some of the popular languages that Data Scientists use are:\n",
    "1. Python\n",
    "2. R\n",
    "3. SQL\n",
    "4. Java"
   ]
  },
  {
   "cell_type": "markdown",
   "id": "24e49230-028b-4ca3-8dc8-32fc61cda95b",
   "metadata": {},
   "source": [
    "Some of the popular languages that Data Scientists use are:\n",
    "1. Python\n",
    "2. R\n",
    "3. SQL\n",
    "4. Java"
   ]
  },
  {
   "cell_type": "markdown",
   "id": "c5b8cb74-391b-4c10-8de7-83e54e78c7a7",
   "metadata": {},
   "source": [
    "Some of the commonly used libraries used by Data Scientist include:\n",
    "1. Pandas\n",
    "2. NumPy\n",
    "3. Scikit-learn\n",
    "4. Matplotlib\n",
    "5. Keras\n",
    "6. TensorFlow"
   ]
  },
  {
   "cell_type": "markdown",
   "id": "3a526bbe-de9d-4128-b3ad-9b1ab9f9eecc",
   "metadata": {},
   "source": [
    "Some of the commonly used libraries used by Data Scientist include:\n",
    "1. Pandas\n",
    "2. NumPy\n",
    "3. Scikit-learn\n",
    "4. Matplotlib\n",
    "5. Keras\n",
    "6. TensorFlow"
   ]
  },
  {
   "cell_type": "markdown",
   "id": "01ecacfc-cfe1-48db-84e6-b1bb59844cf3",
   "metadata": {},
   "source": [
    "| Data Science Tools |\n",
    "| ------------------ |\n",
    "| Jupyter Notebook |\n",
    "| RStudio |\n",
    "| Visual Studio Code |"
   ]
  },
  {
   "cell_type": "markdown",
   "id": "b1856973-cbb3-401e-8b89-924f917631f6",
   "metadata": {},
   "source": [
    "| Data Science Tools |\n",
    "| ------------------ |\n",
    "| Jupyter Notebook |\n",
    "| RStudio |\n",
    "| Visual Studio Code |"
   ]
  },
  {
   "cell_type": "markdown",
   "id": "0a5d522a-a23c-47aa-84be-cb031be77b2c",
   "metadata": {},
   "source": [
    "### Below are a few examples of evaluating arithmetic expressions in Python ###"
   ]
  },
  {
   "cell_type": "markdown",
   "id": "fcb66187-95e3-45cd-bad1-5126b1a35856",
   "metadata": {},
   "source": [
    "### Below are a few examples of evaluating arithmetic expressions in Python ###"
   ]
  },
  {
   "cell_type": "code",
   "execution_count": 1,
   "id": "9f9ea5c6-313a-4cb2-a0b9-ced7df66fd7d",
   "metadata": {
    "tags": []
   },
   "outputs": [
    {
     "data": {
      "text/plain": [
       "17"
      ]
     },
     "execution_count": 1,
     "metadata": {},
     "output_type": "execute_result"
    }
   ],
   "source": [
    "# This is a simple arithmetic expression to multiply then add integers\n",
    "(3 * 4) + 5"
   ]
  },
  {
   "cell_type": "code",
   "execution_count": 2,
   "id": "77100d73-f193-43a7-bcca-303007de22ec",
   "metadata": {
    "tags": []
   },
   "outputs": [
    {
     "data": {
      "text/plain": [
       "3.3333333333333335"
      ]
     },
     "execution_count": 2,
     "metadata": {},
     "output_type": "execute_result"
    }
   ],
   "source": [
    "# This will convert 200 minutes to hours by diving by 60\n",
    "200/60"
   ]
  },
  {
   "cell_type": "markdown",
   "id": "b0e959ed-b115-43ef-a290-df4993be8d64",
   "metadata": {},
   "source": [
    "**Objective**\n",
    "- Popular languages used in Data Science are Python, R, Sql, and more.\n",
    "- Python libraries include NumPy, Panda, Matplotlib, Scikit-learn, keras, PyTorch, etc.\n",
    "- Most commonly used R libraries are dplyr, stringr, ggplot, caret, etc.\n",
    "- GitHub is a web-based service for Git repositories."
   ]
  },
  {
   "cell_type": "markdown",
   "id": "b34b2efb-f7eb-48ee-8055-45b6340968af",
   "metadata": {},
   "source": [
    "**Objective**\n",
    "- Popular languages used in Data Science are Python, R, Sql, and more.\n",
    "- Python libraries include NumPy, Panda, Matplotlib, Scikit-learn, keras, PyTorch, etc.\n",
    "- Most commonly used R libraries are dplyr, stringr, ggplot, caret, etc.\n",
    "- GitHub is a web-based service for Git repositories."
   ]
  },
  {
   "cell_type": "markdown",
   "id": "f69f8771-c14e-41ca-8fc7-522e361284d8",
   "metadata": {},
   "source": [
    "## Author ##\n",
    "Sarannya Thelapurath"
   ]
  },
  {
   "cell_type": "markdown",
   "id": "7d817a36-ced0-414c-9764-f465fc24b4a2",
   "metadata": {},
   "source": [
    "## Author ##\n",
    "Sarannya Thelapurath"
   ]
  },
  {
   "cell_type": "code",
   "execution_count": null,
   "id": "099f2b8c-d542-491d-8178-3f0ddc2107dc",
   "metadata": {},
   "outputs": [],
   "source": []
  }
 ],
 "metadata": {
  "kernelspec": {
   "display_name": "Python",
   "language": "python",
   "name": "conda-env-python-py"
  },
  "language_info": {
   "codemirror_mode": {
    "name": "ipython",
    "version": 3
   },
   "file_extension": ".py",
   "mimetype": "text/x-python",
   "name": "python",
   "nbconvert_exporter": "python",
   "pygments_lexer": "ipython3",
   "version": "3.7.12"
  }
 },
 "nbformat": 4,
 "nbformat_minor": 5
}
